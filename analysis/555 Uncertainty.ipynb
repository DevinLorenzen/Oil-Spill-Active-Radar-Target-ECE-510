{
 "metadata": {
  "name": ""
 },
 "nbformat": 3,
 "nbformat_minor": 0,
 "worksheets": [
  {
   "cells": [
    {
     "cell_type": "markdown",
     "metadata": {},
     "source": [
      "Doppler Shift is important to characterize:\n",
      "\n",
      "$$ \\Delta f = 2 \\frac{\\Delta v}{c}f_0$$\n",
      "\n",
      "The shift in frequency is equal to the delta in velocity divided by the velocity in the medium times the source frequency. The factor of two is because there is a shift for the frequency on the path to the beacon and on the path away from the beacon. "
     ]
    },
    {
     "cell_type": "code",
     "collapsed": false,
     "input": [
      "%pylab inline\n",
      "from scipy.constants import c\n",
      "import numpy as np\n",
      "\n",
      "# speed of light in air:\n",
      "# refractive index of air, (source, wikipedia)\n",
      "air_refrac = 1.000277\n",
      "speed_of_light = c / air_refrac # in m/s\n",
      "\n",
      "\n",
      "def doppler_shift(dv, f0):\n",
      "    # factor of two to account for shift towards target and on return from target\n",
      "    return 2*(dv/speed_of_light) * f0 "
     ],
     "language": "python",
     "metadata": {},
     "outputs": [
      {
       "output_type": "stream",
       "stream": "stdout",
       "text": [
        "Populating the interactive namespace from numpy and matplotlib\n"
       ]
      }
     ],
     "prompt_number": 2
    },
    {
     "cell_type": "markdown",
     "metadata": {},
     "source": [
      "It is important to note that this dopppler shift can either be up or down in frequency, so that if we we want to keep the beacons isolated, we need to double the amount of \"space\" on each side of the beacon. Assuming a maximum velocity of 1/ms, based on the current flow of the Williamette river, this gives us the total bandwidth required per beacon:"
     ]
    },
    {
     "cell_type": "code",
     "collapsed": false,
     "input": [
      "beacon_bw = doppler_shift(1,2.304080e9)*2 # factor of two, since velocity difference can be positive or negative\n",
      "beacon_bw"
     ],
     "language": "python",
     "metadata": {},
     "outputs": [
      {
       "metadata": {},
       "output_type": "pyout",
       "prompt_number": 3,
       "text": [
        "30.750850045200274"
       ]
      }
     ],
     "prompt_number": 3
    },
    {
     "cell_type": "markdown",
     "metadata": {},
     "source": [
      "Given a receiver bandwidth of 3kHz, this means that _at a minimum_ to keep tracks from overlapping, we need to have at most the following number of sensors:\n"
     ]
    },
    {
     "cell_type": "code",
     "collapsed": false,
     "input": [
      "floor(3000/beacon_bw)"
     ],
     "language": "python",
     "metadata": {},
     "outputs": [
      {
       "metadata": {},
       "output_type": "pyout",
       "prompt_number": 4,
       "text": [
        "97.0"
       ]
      }
     ],
     "prompt_number": 4
    },
    {
     "cell_type": "markdown",
     "metadata": {},
     "source": [
      "**NOTE** With the above limits, it is still possible to have to tracks close to each other in the worst case, so it makes sense to space the sensors even farther apart, say 100Hz.\n",
      "\n",
      "Next we can calculate what the frequency of the modulated beacon is based on its design. The following equations are taken from the TLC555 datasheet. The default values for Ron, tPHL, and tPLH correspond to the values at a supply voltage of 3 volts and an ambient temperature of 25 degrees C.\n",
      "\n",
      "For example, lets assume that we have a value for Ra of 10 kilo-ohms, and a value for Rb of 39K, and a value of 1nF for the capacitor. This gives us a frequency of: "
     ]
    },
    {
     "cell_type": "code",
     "collapsed": false,
     "input": [
      "def freq555(Ct,Ra,Rb,Ron=20,tPHL=380e-9,tPLH=120e-9):\n",
      "    tcH = Ct*(Ra+Rb)*np.log(3-np.exp(-tPLH/(Ct*(Rb+Ron))))+tPHL\n",
      "    tcL = Ct*(Rb+Ron)*np.log(3-np.exp(-tPHL/(Ct*(Ra+Rb))))+tPLH\n",
      "    return 1/(tcH+tcL)\n",
      "Ra_nom = 10e3\n",
      "Rb_nom = 39e3\n",
      "C_nom = 1e-9 #22nF nominal \n",
      "\n",
      "freq555(C_nom,Ra_nom,Rb_nom)"
     ],
     "language": "python",
     "metadata": {},
     "outputs": [
      {
       "metadata": {},
       "output_type": "pyout",
       "prompt_number": 5,
       "text": [
        "16197.895803383077"
       ]
      }
     ],
     "prompt_number": 5
    },
    {
     "cell_type": "markdown",
     "metadata": {},
     "source": [
      "This gives us a frequency of about 16.1 Khz. Next, let us look at the variance from manufacturing. Assuming that we use 1% resistors with 100ppm tempco, and MLCC capacitors with 20% tolerance and an X7R tempco, and assuming we are throwing these devices into the Williamette river with a water temperature of 7 degrees C, we get the following result:"
     ]
    },
    {
     "cell_type": "code",
     "collapsed": false,
     "input": [
      "from numpy.random import randn\n",
      "\n",
      "# generates random parts at given temp with given tolerance. \n",
      "# Tolerance is specified as worst case, and treated as a type B measurement. \n",
      "# For more details, see http://www.nist.gov/pml/pubs/tn1297/sec4.cfm\n",
      "# Default to 4.5 (3.4 ppm)\n",
      "def rand_parts(samples,nom,tol,tempco,temp_shift=0,sigma=4.5):\n",
      "    return nom*(1 + randn(samples)*tol/sigma + temp_shift*randn(samples)*tempco/sigma)\n",
      "\n",
      "\n",
      "    # lets look at oscillator frequency for 10000 devices\n",
      "samples = 1e4\n",
      "sigma = 2 # We use 99% CI, not 4.5 sigma as seen above. \n",
      "temp_shift = 25 - 7 # low point of williamette water temp is 7 degrees C\n",
      "R_tol = 0.01 # 1%\n",
      "C_tol = 0.2\n",
      "R_tempco = 100e-6 # 100 ppm\n",
      "C_tempco = 0.15/180 # X7R specified as no more than 15% from -25 to 155\n",
      "\n",
      "    \n",
      "\n",
      "Ras = rand_parts(samples,Ra_nom,R_tol,R_tempco,temp_shift)\n",
      "Rbs = rand_parts(samples,Rb_nom,R_tol,R_tempco,temp_shift)\n",
      "caps = rand_parts(samples,C_nom,C_tol,C_tempco,temp_shift)\n",
      "    \n",
      "freqs = freq555(caps,Ras,Rbs)\n",
      "hist(freqs,25);\n",
      "title('frequency output for given temperature sensor')\n",
      "print \"Frequency: %f \u00b1 %f Hz\" % (mean(freqs), sigma*std(freqs))\n"
     ],
     "language": "python",
     "metadata": {},
     "outputs": [
      {
       "output_type": "stream",
       "stream": "stdout",
       "text": [
        "Frequency: 16237.410851 \u00b1 1450.697568 Hz\n"
       ]
      },
      {
       "metadata": {},
       "output_type": "display_data",
       "png": "[encoded data removed]",
       "text": [
        "<matplotlib.figure.Figure at 0x106f35390>"
       ]
      }
     ],
     "prompt_number": 33
    },
    {
     "cell_type": "markdown",
     "metadata": {},
     "source": [
      "As you can see, this design has a very large error in frequency, due to the tolerance of the components. IF we replace Ra with a trimpot, and assume a changed tempco of 400ppm for that resistor, we get the following distribution:"
     ]
    },
    {
     "cell_type": "code",
     "collapsed": false,
     "input": [
      "Ras = rand_parts(samples,Ra_nom,0,R_tempco*4,temp_shift)\n",
      "Rbs = rand_parts(samples,Rb_nom,0,R_tempco,temp_shift)\n",
      "caps = rand_parts(samples,C_nom,0,30e-6,temp_shift)\n",
      "    \n",
      "freqs = freq555(caps,Ras,Rbs)\n",
      "hist(freqs,25);\n",
      "title('frequency output for given temperature sensor')\n",
      "print \"Frequency: %f \u00b1 %f Hz\" % (mean(freqs), 4.5*std(freqs))\n"
     ],
     "language": "python",
     "metadata": {},
     "outputs": [
      {
       "output_type": "stream",
       "stream": "stdout",
       "text": [
        "Frequency: 16197.894386 \u00b1 29.657785 Hz\n"
       ]
      },
      {
       "metadata": {},
       "output_type": "display_data",
       "png": "[encoded data removed]",
       "text": [
        "<matplotlib.figure.Figure at 0x107172550>"
       ]
      }
     ],
     "prompt_number": 35
    },
    {
     "cell_type": "markdown",
     "metadata": {},
     "source": [
      "**Note** Neither of these analyses take into account the variation in the 555 timer. \n",
      "\n",
      "Next, we look at the limits of the spectral resolution. \n",
      "\n",
      "$$Resolution = \\frac{Fs}{N}$$\n",
      "\n",
      "Where $Fs$ is the sampling rate, and $N$ is the number of points in the FFT. Assuming the default python value of 256 points sampling at 8kHz, we have: \n",
      "\n"
     ]
    },
    {
     "cell_type": "code",
     "collapsed": false,
     "input": [
      "Fs = 8000\n",
      "N = 256\n",
      "print \"Frequency Resolution: %.2f Hz\" % (float(Fs)/N)"
     ],
     "language": "python",
     "metadata": {},
     "outputs": [
      {
       "output_type": "stream",
       "stream": "stdout",
       "text": [
        "Frequency Resolution: 31.25 Hz\n"
       ]
      }
     ],
     "prompt_number": 21
    },
    {
     "cell_type": "markdown",
     "metadata": {},
     "source": [
      "Obviously, we are not limited to 256 point DFT: we can scale this up to something like a 1024 point DFT to get a frequency resolution of: "
     ]
    },
    {
     "cell_type": "code",
     "collapsed": false,
     "input": [
      "Fs = 8000\n",
      "N = 1024\n",
      "print \"Frequency Resolution: %.2f Hz\" % (float(Fs)/N)"
     ],
     "language": "python",
     "metadata": {},
     "outputs": [
      {
       "output_type": "stream",
       "stream": "stdout",
       "text": [
        "Frequency Resolution: 7.81 Hz\n"
       ]
      }
     ],
     "prompt_number": 25
    },
    {
     "cell_type": "markdown",
     "metadata": {},
     "source": [
      "Below is an example spectrogram of two perfect sine waves spaced 100Hz appart. "
     ]
    },
    {
     "cell_type": "code",
     "collapsed": false,
     "input": [
      "from scipy import signal as sig\n",
      "\n",
      "x = np.arange(2**12)\n",
      "sample_fs = 8000\n",
      "sig_fs = 2500\n",
      "fs = 10*sin(2*pi*x*(sig_fs)/(sample_fs)) + 10*sin(2*pi*x*(sig_fs+20)/(sample_fs))\n",
      "\n",
      "S, freqs, bins, im= plt.specgram(fs,Fs=sample_fs, NFFT=N, noverlap=N/2)\n",
      "#plt.plot(fs[0:100])\n",
      "#fs"
     ],
     "language": "python",
     "metadata": {},
     "outputs": [
      {
       "metadata": {},
       "output_type": "display_data",
       "png": "[encoded data removed]",
       "text": [
        "<matplotlib.figure.Figure at 0x106f48b10>"
       ]
      }
     ],
     "prompt_number": 34
    },
    {
     "cell_type": "code",
     "collapsed": false,
     "input": [],
     "language": "python",
     "metadata": {},
     "outputs": []
    }
   ],
   "metadata": {}
  }
 ]
}